{
 "cells": [
  {
   "cell_type": "raw",
   "id": "6129c590",
   "metadata": {},
   "source": [
    "##1."
   ]
  },
  {
   "cell_type": "code",
   "execution_count": 1,
   "id": "eb8dc012",
   "metadata": {},
   "outputs": [
    {
     "name": "stdout",
     "output_type": "stream",
     "text": [
      "I love top mentor\n"
     ]
    }
   ],
   "source": [
    "m = \"I love top mentor\"\n",
    "print(m)"
   ]
  },
  {
   "cell_type": "raw",
   "id": "42b8277b",
   "metadata": {},
   "source": [
    "##2."
   ]
  },
  {
   "cell_type": "code",
   "execution_count": 2,
   "id": "4249986f",
   "metadata": {},
   "outputs": [
    {
     "name": "stdout",
     "output_type": "stream",
     "text": [
      "Never give up on your dream\n"
     ]
    }
   ],
   "source": [
    "m = \"Never give up on your dream\"\n",
    "print(m)"
   ]
  },
  {
   "cell_type": "code",
   "execution_count": 3,
   "id": "c1b0ea47",
   "metadata": {},
   "outputs": [
    {
     "name": "stdout",
     "output_type": "stream",
     "text": [
      "('Ever', 'Never give up on your dream')\n"
     ]
    }
   ],
   "source": [
    "a = (\"Ever\", m)\n",
    "print(a)"
   ]
  },
  {
   "cell_type": "raw",
   "id": "ba3eba70",
   "metadata": {},
   "source": [
    "##3."
   ]
  },
  {
   "cell_type": "code",
   "execution_count": 5,
   "id": "39af1286",
   "metadata": {},
   "outputs": [
    {
     "name": "stdout",
     "output_type": "stream",
     "text": [
      "Hello raamlaal, would you like to learn some python today? raamlaal\n"
     ]
    }
   ],
   "source": [
    "b = \"raamlaal\"\n",
    "print(\"Hello raamlaal, would you like to learn some python today?\", b)"
   ]
  },
  {
   "cell_type": "raw",
   "id": "949fcaf4",
   "metadata": {},
   "source": [
    "##4."
   ]
  },
  {
   "cell_type": "code",
   "execution_count": 10,
   "id": "a5757d38",
   "metadata": {},
   "outputs": [
    {
     "name": "stdout",
     "output_type": "stream",
     "text": [
      "Budha once Said All that we are is the result of what we have thought\n"
     ]
    }
   ],
   "source": [
    "q = \"Budha once Said\"\n",
    "print(q, str(\"All that we are is the result of what we have thought\"))"
   ]
  },
  {
   "cell_type": "raw",
   "id": "71455f05",
   "metadata": {},
   "source": [
    "##5."
   ]
  },
  {
   "cell_type": "code",
   "execution_count": 11,
   "id": "ed3dd828",
   "metadata": {},
   "outputs": [
    {
     "name": "stdout",
     "output_type": "stream",
     "text": [
      "Budha once said- All that we are is the result of what we have thought\n"
     ]
    }
   ],
   "source": [
    "famous_person = \"Budha once said-\"\n",
    "message = \"All that we are is the result of what we have thought\"\n",
    "print(famous_person, message)"
   ]
  },
  {
   "cell_type": "raw",
   "id": "7eca9160",
   "metadata": {},
   "source": [
    "##6."
   ]
  },
  {
   "cell_type": "code",
   "execution_count": 12,
   "id": "eb200740",
   "metadata": {},
   "outputs": [
    {
     "name": "stdout",
     "output_type": "stream",
     "text": [
      "8\n"
     ]
    }
   ],
   "source": [
    "print(4+4)"
   ]
  },
  {
   "cell_type": "code",
   "execution_count": 13,
   "id": "02b4ea89",
   "metadata": {},
   "outputs": [
    {
     "name": "stdout",
     "output_type": "stream",
     "text": [
      "8.0\n"
     ]
    }
   ],
   "source": [
    "print(16/2)"
   ]
  },
  {
   "cell_type": "code",
   "execution_count": 14,
   "id": "1f739d3c",
   "metadata": {},
   "outputs": [
    {
     "name": "stdout",
     "output_type": "stream",
     "text": [
      "8\n"
     ]
    }
   ],
   "source": [
    "print(4*2)"
   ]
  },
  {
   "cell_type": "code",
   "execution_count": 15,
   "id": "ba56e315",
   "metadata": {},
   "outputs": [
    {
     "name": "stdout",
     "output_type": "stream",
     "text": [
      "8\n"
     ]
    }
   ],
   "source": [
    "print(24-16)"
   ]
  },
  {
   "cell_type": "raw",
   "id": "92d73109",
   "metadata": {},
   "source": [
    "##7"
   ]
  },
  {
   "cell_type": "code",
   "execution_count": 16,
   "id": "b3985170",
   "metadata": {},
   "outputs": [
    {
     "name": "stdout",
     "output_type": "stream",
     "text": [
      "my fav number is 7\n"
     ]
    }
   ],
   "source": [
    "s = 7\n",
    "M = \"my fav number is\"\n",
    "print(M, s)"
   ]
  },
  {
   "cell_type": "raw",
   "id": "dbdfbdb1",
   "metadata": {},
   "source": [
    "##8"
   ]
  },
  {
   "cell_type": "code",
   "execution_count": 17,
   "id": "b7f3a8d2",
   "metadata": {},
   "outputs": [
    {
     "name": "stdout",
     "output_type": "stream",
     "text": [
      "8\n"
     ]
    }
   ],
   "source": [
    "###Mohit sharma 19july\n",
    "###this program for adding to numbers\n",
    "print(4+4)"
   ]
  },
  {
   "cell_type": "code",
   "execution_count": 18,
   "id": "9f941069",
   "metadata": {},
   "outputs": [
    {
     "name": "stdout",
     "output_type": "stream",
     "text": [
      "8.0\n"
     ]
    }
   ],
   "source": [
    "###Mohit sharma 19july\n",
    "###this program for dived to numbers\n",
    "print(16/2)"
   ]
  },
  {
   "cell_type": "raw",
   "id": "a74d3434",
   "metadata": {},
   "source": [
    "##9"
   ]
  },
  {
   "cell_type": "code",
   "execution_count": 26,
   "id": "145fe3bb",
   "metadata": {},
   "outputs": [
    {
     "name": "stdout",
     "output_type": "stream",
     "text": [
      "['uddesh', 'Mohit', 'Reema', 'Aman']\n"
     ]
    }
   ],
   "source": [
    "names = [\"uddesh\",\"Mohit\",\"Reema\",\"Aman\"]\n",
    "print(names)"
   ]
  },
  {
   "cell_type": "code",
   "execution_count": 29,
   "id": "0639b8d6",
   "metadata": {},
   "outputs": [
    {
     "name": "stdout",
     "output_type": "stream",
     "text": [
      "uddesh\n"
     ]
    }
   ],
   "source": [
    "print(names[0])"
   ]
  },
  {
   "cell_type": "code",
   "execution_count": 30,
   "id": "6cb86bea",
   "metadata": {},
   "outputs": [
    {
     "name": "stdout",
     "output_type": "stream",
     "text": [
      "Mohit\n"
     ]
    }
   ],
   "source": [
    "print(names[1])"
   ]
  },
  {
   "cell_type": "code",
   "execution_count": 31,
   "id": "0faf60ee",
   "metadata": {},
   "outputs": [
    {
     "name": "stdout",
     "output_type": "stream",
     "text": [
      "Reema\n"
     ]
    }
   ],
   "source": [
    "print(names[2])"
   ]
  },
  {
   "cell_type": "code",
   "execution_count": 32,
   "id": "2246ec52",
   "metadata": {},
   "outputs": [
    {
     "name": "stdout",
     "output_type": "stream",
     "text": [
      "Aman\n"
     ]
    }
   ],
   "source": [
    "print(names[3])"
   ]
  },
  {
   "cell_type": "raw",
   "id": "fbbb5de1",
   "metadata": {},
   "source": [
    "##10"
   ]
  },
  {
   "cell_type": "code",
   "execution_count": 33,
   "id": "acd58cb8",
   "metadata": {},
   "outputs": [
    {
     "name": "stdout",
     "output_type": "stream",
     "text": [
      "you are my best friend uddesh\n"
     ]
    }
   ],
   "source": [
    "print(\"you are my best friend\",names[0])"
   ]
  },
  {
   "cell_type": "code",
   "execution_count": 34,
   "id": "15c1184c",
   "metadata": {},
   "outputs": [
    {
     "name": "stdout",
     "output_type": "stream",
     "text": [
      "you are my best friend Mohit\n"
     ]
    }
   ],
   "source": [
    "print(\"you are my best friend\",names[1])"
   ]
  },
  {
   "cell_type": "code",
   "execution_count": 35,
   "id": "ab5431a4",
   "metadata": {},
   "outputs": [
    {
     "name": "stdout",
     "output_type": "stream",
     "text": [
      "you are my best friend Reema\n"
     ]
    }
   ],
   "source": [
    "print(\"you are my best friend\",names[2])"
   ]
  },
  {
   "cell_type": "code",
   "execution_count": 36,
   "id": "facb4a17",
   "metadata": {},
   "outputs": [
    {
     "name": "stdout",
     "output_type": "stream",
     "text": [
      "you are my best friend Aman\n"
     ]
    }
   ],
   "source": [
    "print(\"you are my best friend\",names[3])"
   ]
  },
  {
   "cell_type": "raw",
   "id": "4034c3a9",
   "metadata": {},
   "source": [
    "##11"
   ]
  },
  {
   "cell_type": "code",
   "execution_count": 39,
   "id": "e565bdb7",
   "metadata": {},
   "outputs": [
    {
     "name": "stdout",
     "output_type": "stream",
     "text": [
      "i would like to ride honda bike\n"
     ]
    }
   ],
   "source": [
    "transports = [\"honda\",\"hero\",\"ktm\",\"suzuki\"]\n",
    "print(\"i would like to ride\", transports[0], \"bike\")"
   ]
  },
  {
   "cell_type": "code",
   "execution_count": 41,
   "id": "666bc6af",
   "metadata": {},
   "outputs": [
    {
     "name": "stdout",
     "output_type": "stream",
     "text": [
      "i would like to have a suzuki bike in future\n"
     ]
    }
   ],
   "source": [
    "print(\"i would like to have a\", transports[3], \"bike in future\")"
   ]
  },
  {
   "cell_type": "code",
   "execution_count": null,
   "id": "0aa3b23a",
   "metadata": {},
   "outputs": [],
   "source": []
  }
 ],
 "metadata": {
  "kernelspec": {
   "display_name": "Python 3 (ipykernel)",
   "language": "python",
   "name": "python3"
  },
  "language_info": {
   "codemirror_mode": {
    "name": "ipython",
    "version": 3
   },
   "file_extension": ".py",
   "mimetype": "text/x-python",
   "name": "python",
   "nbconvert_exporter": "python",
   "pygments_lexer": "ipython3",
   "version": "3.11.4"
  }
 },
 "nbformat": 4,
 "nbformat_minor": 5
}
